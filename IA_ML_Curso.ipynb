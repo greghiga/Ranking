}Olá, poderia disponibilizar o sua dissertação de pesquisa para nós? achamos muito interessante seu códio, porém gostariamos de revisar a pesquisa para saber se atenderá o objetivo de nosso projeto.


{
 "cells": [
  {
   "cell_type": "markdown",
   "metadata": {
    "id": "kZnL5WWPM7Xa"
   },
   "source": [
    " # Bibliotecas"
   ]
  },
  {
   "cell_type": "code",
   "execution_count": null,
   "metadata": {
    "id": "f9z8hNZNHfYz"
   },
   "outputs": [],
   "source": [
    "#Importações de Bases de Dados\n",
    "from sklearn.datasets import load_iris\n",
    "\n",
    "#Importação de Esquemas de Avaliação\n",
    "from sklearn.model_selection import StratifiedKFold\n",
    "\n",
    "#Importação de Modelos de Classificação\n",
    "from sklearn.neural_network import MLPClassifier\n",
    "from sklearn.linear_model import LogisticRegression\n",
    "from sklearn.neighbors import KNeighborsClassifier\n",
    "from sklearn.svm import SVC\n",
    "from sklearn.naive_bayes import GaussianNB\n",
    "from sklearn.naive_bayes import CategoricalNB\n",
    "from sklearn.tree import DecisionTreeClassifier\n",
    "from sklearn.dummy import DummyClassifier\n",
    "\n",
    "\n",
    "#Importação de Métricas de Avaliação\n",
    "from sklearn.metrics import accuracy_score\n",
    "from sklearn.metrics import precision_score\n",
    "from sklearn.metrics import recall_score\n",
    "from sklearn.metrics import f1_score\n",
    "from sklearn.metrics import confusion_matrix\n",
    "from sklearn.metrics import classification_report\n",
    "from sklearn.metrics import average_precision_score\n",
    "\n",
    "from sklearn.metrics import confusion_matrix\n",
    "\n",
    "#Importação de Utilitários\n",
    "import pandas as pd\n",
    "import numpy as np"
   ]
  },
  {
   "cell_type": "markdown",
   "metadata": {
    "id": "9GNw3MGoe-9A"
   },
   "source": [
    "# Funções"
   ]
  },
  {
   "cell_type": "markdown",
   "metadata": {
    "id": "JEM7qYIsfBJ8"
   },
   "source": [
    "## Preprocessamento dos Dados"
   ]
  },
  {
   "cell_type": "markdown",
   "metadata": {
    "id": "w1qbPln3hkH0"
   },
   "source": [
    "### Mapeando os valores de atributos discretos dado um dicionário criado manualmente"
   ]
  },
  {
   "cell_type": "code",
   "execution_count": null,
   "metadata": {
    "id": "8r_AOt5sfHs7"
   },
   "outputs": [],
   "source": [
    "def preproc_dicionario(df,dicionario):  \n",
    "  for column in df.columns[:-1]:\n",
    "    if column in dicionario:\n",
    "      df[column] = df[column].replace(dicionario[column])"
   ]
  },
  {
   "cell_type": "markdown",
   "metadata": {
    "id": "uVFn2Jw5hq5-"
   },
   "source": [
    "### Mapeando os valores de atributos discretos utilizando LabelEncoders"
   ]
  },
  {
   "cell_type": "code",
   "execution_count": null,
   "metadata": {
    "id": "nIiKQkbcfM2C"
   },
   "outputs": [],
   "source": [
    "def preproc_enconder(df):\n",
    "  dict_encoders = {}\n",
    "  for column in df.columns[:-1]:\n",
    "    encoder_column = LabelEncoder()\n",
    "    df[column] = encoder_column.fit_transform(df[column])\n",
    "    dict_encoders[column] = encoder_column\n",
    "  \n",
    "  return dict_encoders"
   ]
  },
  {
   "cell_type": "markdown",
   "metadata": {
    "id": "D-0nqNvWfEXe"
   },
   "source": [
    "## Avaliação do Modelo de Classificação"
   ]
  },
  {
   "cell_type": "code",
   "execution_count": null,
   "metadata": {
    "id": "DzZLW_98jPrC"
   },
   "outputs": [],
   "source": [
    "def evaluate(y_test, y_pred, clf_predictions_proba, test_ord):\n",
    "  dict_results = {}\n",
    "  dict_results['Acurácia'] = accuracy_score(y_test, y_pred)\n",
    "  dict_results['Precision'] = precision_score(y_test, y_pred)\n",
    "  dict_results['Recall'] = recall_score(y_test, y_pred)\n",
    "  #dict_results['Micro Revocação'] = recall_score(y_test, y_pred, average='micro')\n",
    "  dict_results['Macro Revocação'] = recall_score(y_test, y_pred, average='macro')\n",
    "  #dict_results['Micro Precisao'] = precision_score(y_test, y_pred, average='micro')\n",
    "  dict_results['Macro Precisao'] = precision_score(y_test, y_pred, average='macro')\n",
    "  #dict_results['Micro F1'] = f1_score(y_test,y_pred, average='micro')\n",
    "  dict_results['Macro F1'] = f1_score(y_test,y_pred, average='macro')\n",
    "  #dict_results['Classe Interesse - Precision'] = (classification_report(y_test, y_pred, digits=4, output_dict=True).get('1')).get('precision')\n",
    "  #dict_results['Classe Interesse - Recall'] = (classification_report(y_test, y_pred, digits=4, output_dict=True).get('1')).get('recall')\n",
    "  dict_results['Classe Interesse - F1-Score'] = (classification_report(y_test, y_pred, digits=4, output_dict=True).get('1')).get('f1-score')\n",
    "  #dict_results['Avaliação do Ranking - Average Precision'] = average_precision_score(y_test, clf_predictions_proba[:,1], pos_label=0, average=None)\n",
    "  dict_results['Avaliação do Ranking - Precision @k5'] = precision_k(5, test_ord, y_test)\n",
    "  dict_results['Avaliação do Ranking - Precision @k10'] = precision_k(10, test_ord, y_test)\n",
    "  dict_results['Avaliação do Ranking - Precision @k50'] = precision_k(50, test_ord, y_test)\n",
    "  dict_results['Avaliação do Ranking - Recall @k5'] = recall_k(5, test_ord, y_test)\n",
    "  dict_results['Avaliação do Ranking - Recall @k10'] = recall_k(10, test_ord, y_test)\n",
    "  dict_results['Avaliação do Ranking - Recall @k50'] = recall_k(50, test_ord, y_test)\n",
    "  dict_results['Avaliação do Ranking - F1-Score @k5'] = f1_k(5, test_ord, y_test)\n",
    "  dict_results['Avaliação do Ranking - F1-Score @k10'] = f1_k(10, test_ord, y_test)\n",
    "  dict_results['Avaliação do Ranking - F1-Score @k50'] = f1_k(50, test_ord, y_test)\n",
    "  return dict_results"
   ]
  },
  {
   "cell_type": "code",
   "execution_count": null,
   "metadata": {
    "id": "f_keNT3einip"
   },
   "outputs": [],
   "source": [
    "def results_k_fold_cross_validation(classifier, X, y, n_splits=10, shuffle=True, random_state = 0):\n",
    "\n",
    "  resultados = pd.DataFrame(columns=['Iteração',\n",
    "                                     'Acurácia',\n",
    "                                     'Precision',\n",
    "                                     'Recall',\n",
    "                                     'Macro Revocação',\n",
    "                                     'Macro Precisao',\n",
    "                                     'Macro F1',  \n",
    "                                     'Classe Interesse - F1-Score',\n",
    "                                     'Avaliação do Ranking - Precision @k5', \n",
    "                                     'Avaliação do Ranking - Precision @k10',\n",
    "                                     'Avaliação do Ranking - Precision @k50',\n",
    "                                     'Avaliação do Ranking - Recall @k5', \n",
    "                                     'Avaliação do Ranking - Recall @k10', \n",
    "                                     'Avaliação do Ranking - Recall @k50',\n",
    "                                     'Avaliação do Ranking - F1-Score @k5', \n",
    "                                     'Avaliação do Ranking - F1-Score @k10', \n",
    "                                     'Avaliação do Ranking - F1-Score @k50'])\n",
    "\n",
    "  kf = StratifiedKFold(n_splits=n_splits, shuffle=shuffle, random_state = random_state)\n",
    "  contador = 1\n",
    "  for train_index, test_index in kf.split(X,y):\n",
    "    # Separando o conjunto de treino e teste\n",
    "    X_train = X[train_index]\n",
    "    y_train = y[train_index]\n",
    "    X_test = X[test_index]\n",
    "    y_test = y[test_index]\n",
    "    \n",
    "    #Construindo um modelo de classificação\n",
    "    classifier.fit(X_train,y_train)\n",
    "\n",
    "    clf_predictions_proba = classifier.predict_proba(X_test)\n",
    "\n",
    "    #Criando lista ordenada das predições\n",
    "    teste_score = list(enumerate(clf_predictions_proba[:,0]))\n",
    "    test_ord = sorted(teste_score, key=lambda tup: tup[1], reverse=True)\n",
    "    \n",
    "    #Avaliando um modelo de classificação com diferentes medidas\n",
    "    y_pred = classifier.predict(X_test)\n",
    "    dict_results = evaluate(y_test, y_pred, clf_predictions_proba, test_ord)\n",
    "    dict_results['Iteração'] = contador\n",
    "    contador = contador + 1\n",
    "    resultados = resultados.append(dict_results, ignore_index=True)\n",
    "    \n",
    "    \n",
    "    display(confusion_matrix(y_test, y_pred))\n",
    "  \n",
    "  return resultados"
   ]
  },
  {
   "cell_type": "code",
   "execution_count": null,
   "metadata": {
    "id": "fW2PvVafHgOT"
   },
   "outputs": [],
   "source": [
    "def precision_k(k, test_ord, y_test):\n",
    "  indices = []\n",
    "  valores = []\n",
    "  for ind, val in test_ord[:k]:\n",
    "    indices.append(ind)\n",
    "    valores.append(val)\n",
    "  result = precision_score(y_test[indices], [0 for i in range(k)], pos_label=0)\n",
    "  return result"
   ]
  },
  {
   "cell_type": "code",
   "execution_count": null,
   "metadata": {
    "id": "4_KOvI_xW3OR"
   },
   "outputs": [],
   "source": [
    "def recall_k(k, test_ord, y_test):\n",
    "  indices = []\n",
    "  valores = []\n",
    "  for ind, val in test_ord[:k]:\n",
    "    indices.append(ind)\n",
    "    valores.append(val)\n",
    "  result = recall_score(y_test[indices], [0 for i in range(k)], pos_label=0)\n",
    "  return result"
   ]
  },
  {
   "cell_type": "code",
   "execution_count": null,
   "metadata": {
    "id": "No_MWEUtXPN2"
   },
   "outputs": [],
   "source": [
    "def f1_k(k, test_ord, y_test):\n",
    "  indices = []\n",
    "  valores = []\n",
    "  for ind, val in test_ord[:k]:\n",
    "    indices.append(ind)\n",
    "    valores.append(val)\n",
    "  result = f1_score(y_test[indices], [0 for i in range(k)], pos_label=0)\n",
    "  return result"
   ]
  },
  {
   "cell_type": "markdown",
   "metadata": {
    "id": "xvP-nvE6OPIy"
   },
   "source": [
    "# Carregando as Bases"
   ]
  },
  {
   "cell_type": "markdown",
   "metadata": {
    "id": "RdBcU_alfP3c"
   },
   "source": [
    "## Caregando base do curso"
   ]
  },
  {
   "cell_type": "code",
   "execution_count": null,
   "metadata": {
    "colab": {
     "base_uri": "https://localhost:8080/"
    },
    "id": "DFtmWlwV_TB1",
    "outputId": "c4f31269-fabe-40f3-9606-43462a1ea173"
   },
   "outputs": [],
   "source": [
    "df = pd.read_csv(\"onehotencoder_Curso.csv\")\n",
    "\n",
    "data = df\n",
    "X = np.array(data.iloc[:,0:df.shape[1]-1])\n",
    "y = np.array(data.iloc[:,-1])\n",
    "target_names = ['Não Evasão','Evasão']\n",
    "df.target_names=np.array(target_names)"
   ]
  },
  {
   "cell_type": "code",
   "execution_count": null,
   "metadata": {},
   "outputs": [],
   "source": [
    "import pandas as pd\n",
    "\n",
    "def clean_dataset(df):\n",
    "    assert isinstance(df, pd.DataFrame), \"df needs to be a pd.DataFrame\"\n",
    "    df.dropna(inplace=True)\n",
    "    indices_to_keep = ~df.isin([np.nan, np.inf, -np.inf]).any(1)\n",
    "    return df[indices_to_keep].astype(np.float64)"
   ]
  },
  {
   "cell_type": "markdown",
   "metadata": {
    "id": "KhHbE3Aim0xJ"
   },
   "source": [
    "#Área de Testes"
   ]
  },
  {
   "cell_type": "markdown",
   "metadata": {
    "id": "eaJ5a6SdmJje"
   },
   "source": [
    "#MLP"
   ]
  },
  {
   "cell_type": "code",
   "execution_count": null,
   "metadata": {
    "colab": {
     "base_uri": "https://localhost:8080/",
     "height": 1000
    },
    "id": "NNfYd8jAlLHi",
    "outputId": "05421428-2dc0-4d13-823c-ab3c01fca6f8"
   },
   "outputs": [],
   "source": [
    "resultados = results_k_fold_cross_validation(MLPClassifier(hidden_layer_sizes=(32),activation=\"relu\",random_state=1), X, y, n_splits=10)\n",
    "display(resultados.mean())\n",
    "resultado = pd.DataFrame(resultados.mean())"
   ]
  },
  {
   "cell_type": "code",
   "execution_count": null,
   "metadata": {
    "colab": {
     "base_uri": "https://localhost:8080/",
     "height": 1000
    },
    "id": "3AbeTonD9R-Z",
    "outputId": "eb50e4d2-07b0-4e6a-cbd7-80fefdfa95ed"
   },
   "outputs": [],
   "source": [
    "resultados = results_k_fold_cross_validation(MLPClassifier(hidden_layer_sizes=(64,32),activation=\"relu\",random_state=1), X, y, n_splits=10)\n",
    "display(resultados.mean())\n",
    "resultado = pd.concat([resultado, resultados.mean()], axis=1)"
   ]
  },
  {
   "cell_type": "markdown",
   "metadata": {
    "id": "BCudmrTTgw1A"
   },
   "source": [
    "#Logistic Regression"
   ]
  },
  {
   "cell_type": "code",
   "execution_count": null,
   "metadata": {
    "colab": {
     "base_uri": "https://localhost:8080/",
     "height": 1000
    },
    "id": "XeUxQZ0gYQym",
    "outputId": "9aa3b8b6-5e7f-4fe7-e05f-8e6e384aeb42"
   },
   "outputs": [],
   "source": [
    "resultados = results_k_fold_cross_validation(LogisticRegression(C=0.01), X, y, n_splits=10)\n",
    "display(resultados.mean())\n",
    "resultado = pd.concat([resultado, resultados.mean()], axis=1)"
   ]
  },
  {
   "cell_type": "code",
   "execution_count": null,
   "metadata": {
    "colab": {
     "base_uri": "https://localhost:8080/",
     "height": 1000
    },
    "id": "q41zv1iXRT5M",
    "outputId": "8b091ba5-010d-49e6-fbd0-a25c525a945e"
   },
   "outputs": [],
   "source": [
    "resultados = results_k_fold_cross_validation(LogisticRegression(C=0.1), X, y, n_splits=10)\n",
    "display(resultados.mean())\n",
    "resultado = pd.concat([resultado, resultados.mean()], axis=1)"
   ]
  },
  {
   "cell_type": "code",
   "execution_count": null,
   "metadata": {
    "colab": {
     "base_uri": "https://localhost:8080/",
     "height": 1000
    },
    "id": "3QkbEIErRWzT",
    "outputId": "608952a3-10e7-452a-9582-3449452a539a"
   },
   "outputs": [],
   "source": [
    "resultados = results_k_fold_cross_validation(LogisticRegression(C=1.0), X, y, n_splits=10)\n",
    "#print('='*25,'Logistic Regression 1.0','='*25)\n",
    "display(resultados.mean())\n",
    "resultado = pd.concat([resultado, resultados.mean()], axis=1)"
   ]
  },
  {
   "cell_type": "code",
   "execution_count": null,
   "metadata": {
    "colab": {
     "base_uri": "https://localhost:8080/",
     "height": 1000
    },
    "id": "roPfvBhCZPJT",
    "outputId": "5012d01d-3803-48a6-a02b-d1ca8dcd4084"
   },
   "outputs": [],
   "source": [
    "resultados = results_k_fold_cross_validation(LogisticRegression(C=10.0), X, y, n_splits=10)\n",
    "display(resultados.mean())\n",
    "resultado = pd.concat([resultado, resultados.mean()], axis=1)"
   ]
  },
  {
   "cell_type": "code",
   "execution_count": null,
   "metadata": {
    "colab": {
     "base_uri": "https://localhost:8080/",
     "height": 1000
    },
    "id": "jZIEeOe2ZTa1",
    "outputId": "3c620c78-9ce2-40e7-a349-7d28ed351f78"
   },
   "outputs": [],
   "source": [
    "resultados = results_k_fold_cross_validation(LogisticRegression(C=100.0), X, y, n_splits=10)\n",
    "display(resultados.mean())\n",
    "resultado = pd.concat([resultado, resultados.mean()], axis=1)"
   ]
  },
  {
   "cell_type": "markdown",
   "metadata": {
    "id": "uV5ucFQMgo8U"
   },
   "source": [
    "#KNN"
   ]
  },
  {
   "cell_type": "code",
   "execution_count": null,
   "metadata": {
    "colab": {
     "base_uri": "https://localhost:8080/",
     "height": 895
    },
    "id": "ZrUIZ0ltghai",
    "outputId": "a53f7d51-d129-4ff9-d7ad-8e03349a72af"
   },
   "outputs": [],
   "source": [
    "resultados = results_k_fold_cross_validation(KNeighborsClassifier(n_neighbors=7,p=2), X, y, n_splits=10)\n",
    "display(resultados.mean())\n",
    "resultado = pd.concat([resultado, resultados.mean()], axis=1)"
   ]
  },
  {
   "cell_type": "code",
   "execution_count": null,
   "metadata": {
    "colab": {
     "base_uri": "https://localhost:8080/",
     "height": 1000
    },
    "id": "dwxaK_7Gg1_C",
    "outputId": "9bb7645b-dcff-4be7-91ae-563685bd50b1"
   },
   "outputs": [],
   "source": [
    "resultados = results_k_fold_cross_validation(KNeighborsClassifier(n_neighbors=9,p=2), X, y, n_splits=10)\n",
    "display(resultados.mean())\n",
    "resultado = pd.concat([resultado, resultados.mean()], axis=1)"
   ]
  },
  {
   "cell_type": "code",
   "execution_count": null,
   "metadata": {
    "colab": {
     "base_uri": "https://localhost:8080/",
     "height": 1000
    },
    "id": "S4NTr0YMg4wc",
    "outputId": "994e9e6d-d45a-4463-91f4-790708b61382"
   },
   "outputs": [],
   "source": [
    "resultados = results_k_fold_cross_validation(KNeighborsClassifier(n_neighbors=11,p=2), X, y, n_splits=10)\n",
    "display(resultados.mean())\n",
    "resultado = pd.concat([resultado, resultados.mean()], axis=1)"
   ]
  },
  {
   "cell_type": "code",
   "execution_count": null,
   "metadata": {
    "colab": {
     "base_uri": "https://localhost:8080/",
     "height": 1000
    },
    "id": "9U3Jl7nhg68f",
    "outputId": "cc181a3f-bce3-4550-a2f4-f693078abe30"
   },
   "outputs": [],
   "source": [
    "resultados = results_k_fold_cross_validation(KNeighborsClassifier(n_neighbors=13,p=2), X, y, n_splits=10)\n",
    "display(resultados.mean())\n",
    "resultado = pd.concat([resultado, resultados.mean()], axis=1)"
   ]
  },
  {
   "cell_type": "markdown",
   "metadata": {
    "id": "xg2mRoa6h2kS"
   },
   "source": [
    "#SVC Linear"
   ]
  },
  {
   "cell_type": "code",
   "execution_count": null,
   "metadata": {
    "colab": {
     "base_uri": "https://localhost:8080/",
     "height": 1000
    },
    "id": "77IQdGFJh3zH",
    "outputId": "297281b3-c780-49e3-c354-d54f99b5fd96"
   },
   "outputs": [],
   "source": [
    "resultados = results_k_fold_cross_validation(SVC(kernel='linear', C=0.01, probability=True), X, y, n_splits=10)\n",
    "display(resultados.mean())\n",
    "resultado = pd.concat([resultado, resultados.mean()], axis=1)"
   ]
  },
  {
   "cell_type": "code",
   "execution_count": null,
   "metadata": {
    "colab": {
     "base_uri": "https://localhost:8080/",
     "height": 1000
    },
    "id": "Xtm7q5xTiTu2",
    "outputId": "a48872b8-7a89-4c69-e7e3-4c497c8ffda5"
   },
   "outputs": [],
   "source": [
    "resultados = results_k_fold_cross_validation(SVC(kernel='linear', C=0.1, probability=True), X, y, n_splits=10)\n",
    "display(resultados.mean())\n",
    "resultado = pd.concat([resultado, resultados.mean()], axis=1)"
   ]
  },
  {
   "cell_type": "code",
   "execution_count": null,
   "metadata": {
    "colab": {
     "base_uri": "https://localhost:8080/",
     "height": 1000
    },
    "id": "V3qLArrRiXgP",
    "outputId": "ea27e557-8cb0-41f5-9280-e09163cb6ff1"
   },
   "outputs": [],
   "source": [
    "resultados = results_k_fold_cross_validation(SVC(kernel='linear', C=1.0, probability=True), X, y, n_splits=10)\n",
    "display(resultados.mean())\n",
    "resultado = pd.concat([resultado, resultados.mean()], axis=1)"
   ]
  },
  {
   "cell_type": "code",
   "execution_count": null,
   "metadata": {
    "id": "JGNK9limicop"
   },
   "outputs": [],
   "source": [
    "resultados = results_k_fold_cross_validation(SVC(kernel='linear', C=10.0, probability=True), X, y, n_splits=10)\n",
    "display(resultados.mean())\n",
    "resultado = pd.concat([resultado, resultados.mean()], axis=1)"
   ]
  },
  {
   "cell_type": "code",
   "execution_count": null,
   "metadata": {
    "id": "xEIMTAZzie-J"
   },
   "outputs": [],
   "source": [
    "resultados = results_k_fold_cross_validation(SVC(kernel='linear', C=100.0, probability=True), X, y, n_splits=10)\n",
    "display(resultados.mean())\n",
    "resultado = pd.concat([resultado, resultados.mean()], axis=1)"
   ]
  },
  {
   "cell_type": "markdown",
   "metadata": {
    "id": "8dpQiv64ihpn"
   },
   "source": [
    "#SVC Poly"
   ]
  },
  {
   "cell_type": "code",
   "execution_count": null,
   "metadata": {
    "id": "oNn_D5EsiwRV"
   },
   "outputs": [],
   "source": [
    "resultados = results_k_fold_cross_validation(SVC(kernel='poly', C=0.01, probability=True), X, y, n_splits=10)\n",
    "display(resultados.mean())\n",
    "resultado = pd.concat([resultado, resultados.mean()], axis=1)"
   ]
  },
  {
   "cell_type": "code",
   "execution_count": null,
   "metadata": {
    "id": "iinKVdP0i6r7"
   },
   "outputs": [],
   "source": [
    "resultados = results_k_fold_cross_validation(SVC(kernel='poly', C=0.1, probability=True), X, y, n_splits=10)\n",
    "display(resultados.mean())\n",
    "resultado = pd.concat([resultado, resultados.mean()], axis=1)"
   ]
  },
  {
   "cell_type": "code",
   "execution_count": null,
   "metadata": {
    "id": "00qKnZ95i8Yy"
   },
   "outputs": [],
   "source": [
    "resultados = results_k_fold_cross_validation(SVC(kernel='poly', C=1.0, probability=True), X, y, n_splits=10)\n",
    "display(resultados.mean())\n",
    "resultado = pd.concat([resultado, resultados.mean()], axis=1)"
   ]
  },
  {
   "cell_type": "code",
   "execution_count": null,
   "metadata": {
    "id": "ejLAiscvjAW_"
   },
   "outputs": [],
   "source": [
    "resultados = results_k_fold_cross_validation(SVC(kernel='poly', C=10.0, probability=True), X, y, n_splits=10)\n",
    "display(resultados.mean())\n",
    "resultado = pd.concat([resultado, resultados.mean()], axis=1)"
   ]
  },
  {
   "cell_type": "code",
   "execution_count": null,
   "metadata": {
    "id": "2tESVZj7jCse"
   },
   "outputs": [],
   "source": [
    "resultados = results_k_fold_cross_validation(SVC(kernel='poly', C=100.0, probability=True), X, y, n_splits=10)\n",
    "display(resultados.mean())\n",
    "resultado = pd.concat([resultado, resultados.mean()], axis=1)"
   ]
  },
  {
   "cell_type": "markdown",
   "metadata": {
    "id": "y7DFYal8jFPK"
   },
   "source": [
    "#SVC RBF"
   ]
  },
  {
   "cell_type": "code",
   "execution_count": null,
   "metadata": {
    "id": "0BUF34majIAP"
   },
   "outputs": [],
   "source": [
    "resultados = results_k_fold_cross_validation(SVC(kernel='rbf', C=0.01, probability=True), X, y, n_splits=10)\n",
    "display(resultados.mean())\n",
    "resultado = pd.concat([resultado, resultados.mean()], axis=1)"
   ]
  },
  {
   "cell_type": "code",
   "execution_count": null,
   "metadata": {
    "id": "Pbsm9-m5jQuX"
   },
   "outputs": [],
   "source": [
    "resultados = results_k_fold_cross_validation(SVC(kernel='rbf', C=0.1, probability=True), X, y, n_splits=10)\n",
    "display(resultados.mean())\n",
    "resultado = pd.concat([resultado, resultados.mean()], axis=1)"
   ]
  },
  {
   "cell_type": "code",
   "execution_count": null,
   "metadata": {
    "id": "zDT7nJAajSqZ"
   },
   "outputs": [],
   "source": [
    "resultados = results_k_fold_cross_validation(SVC(kernel='rbf', C=1.0, probability=True), X, y, n_splits=10)\n",
    "display(resultados.mean())\n",
    "resultado = pd.concat([resultado, resultados.mean()], axis=1)"
   ]
  },
  {
   "cell_type": "code",
   "execution_count": null,
   "metadata": {
    "id": "o3LpSSxQjV-Y"
   },
   "outputs": [],
   "source": [
    "resultados = results_k_fold_cross_validation(SVC(kernel='rbf', C=10.0, probability=True), X, y, n_splits=10)\n",
    "display(resultados.mean())\n",
    "resultado = pd.concat([resultado, resultados.mean()], axis=1)"
   ]
  },
  {
   "cell_type": "code",
   "execution_count": null,
   "metadata": {
    "id": "jQRwVkJRjXx7"
   },
   "outputs": [],
   "source": [
    "resultados = results_k_fold_cross_validation(SVC(kernel='rbf', C=100.0, probability=True), X, y, n_splits=10)\n",
    "display(resultados.mean())\n",
    "resultado = pd.concat([resultado, resultados.mean()], axis=1)"
   ]
  },
  {
   "cell_type": "markdown",
   "metadata": {
    "id": "6x8U6JASjb-M"
   },
   "source": [
    "#Decision Tree"
   ]
  },
  {
   "cell_type": "code",
   "execution_count": null,
   "metadata": {
    "id": "L8j4gzPNjdk3"
   },
   "outputs": [],
   "source": [
    "resultados = results_k_fold_cross_validation(DecisionTreeClassifier(min_samples_split=70, random_state=99, max_depth = 2), X, y, n_splits=10)\n",
    "display(resultados.mean())\n",
    "resultado = pd.concat([resultado, resultados.mean()], axis=1)"
   ]
  },
  {
   "cell_type": "code",
   "execution_count": null,
   "metadata": {
    "id": "9h1VemCTjny_"
   },
   "outputs": [],
   "source": [
    "resultados = results_k_fold_cross_validation(DecisionTreeClassifier(min_samples_split=70, random_state=99, max_depth = 5), X, y, n_splits=10)\n",
    "display(resultados.mean())\n",
    "resultado = pd.concat([resultado, resultados.mean()], axis=1)"
   ]
  },
  {
   "cell_type": "code",
   "execution_count": null,
   "metadata": {
    "id": "rNiDK0LYjqeZ"
   },
   "outputs": [],
   "source": [
    "resultados = results_k_fold_cross_validation(DecisionTreeClassifier(min_samples_split=70, random_state=99, max_depth = None), X, y, n_splits=10)\n",
    "display(resultados.mean())\n",
    "resultado = pd.concat([resultado, resultados.mean()], axis=1)"
   ]
  },
  {
   "cell_type": "code",
   "execution_count": null,
   "metadata": {
    "id": "uNGT2gs8oGMv"
   },
   "outputs": [],
   "source": [
    "resultado.to_csv('Resultados_Curso.csv')"
   ]
  }
 ],
 "metadata": {
  "accelerator": "GPU",
  "colab": {
   "collapsed_sections": [],
   "name": "Cópia de IA_Aprendizado_de_Máquina.ipynb",
   "provenance": []
  },
  "kernelspec": {
   "display_name": "Python 3",
   "language": "python",
   "name": "python3"
  },
  "language_info": {
   "codemirror_mode": {
    "name": "ipython",
    "version": 3
   },
   "file_extension": ".py",
   "mimetype": "text/x-python",
   "name": "python",
   "nbconvert_exporter": "python",
   "pygments_lexer": "ipython3",
   "version": "3.8.8"
  }
 },
 "nbformat": 4,
 "nbformat_minor": 1
}
